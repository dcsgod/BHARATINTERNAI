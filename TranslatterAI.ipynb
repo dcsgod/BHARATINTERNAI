{
  "nbformat": 4,
  "nbformat_minor": 0,
  "metadata": {
    "colab": {
      "provenance": [],
      "authorship_tag": "ABX9TyMqBXAWXmFDr5ieaHIDvjrj",
      "include_colab_link": true
    },
    "kernelspec": {
      "name": "python3",
      "display_name": "Python 3"
    },
    "language_info": {
      "name": "python"
    }
  },
  "cells": [
    {
      "cell_type": "markdown",
      "metadata": {
        "id": "view-in-github",
        "colab_type": "text"
      },
      "source": [
        "<a href=\"https://colab.research.google.com/github/dcsgod/BHARATINTERNAI/blob/main/TranslatterAI.ipynb\" target=\"_parent\"><img src=\"https://colab.research.google.com/assets/colab-badge.svg\" alt=\"Open In Colab\"/></a>"
      ]
    },
    {
      "cell_type": "markdown",
      "source": [
        "# **English to Hindi Translatter BHARAT INTERN AI TASK**"
      ],
      "metadata": {
        "id": "DtHcDgHcQGfj"
      }
    },
    {
      "cell_type": "code",
      "execution_count": null,
      "metadata": {
        "id": "uO1ADK7CQC8_"
      },
      "outputs": [],
      "source": [
        "#installing Google Trans\n",
        "!pip install googletrans==4.0.0-rc1"
      ]
    },
    {
      "cell_type": "code",
      "source": [
        "#importing Libraries\n",
        "from googletrans import Translator\n"
      ],
      "metadata": {
        "id": "08mjwaohQ_Fy"
      },
      "execution_count": 2,
      "outputs": []
    },
    {
      "cell_type": "code",
      "source": [
        "# Function to translate English text to Hindi\n",
        "def translate_english_to_hindi(text):\n",
        "    translator = Translator(service_urls=['translate.google.com'])\n",
        "    translation = translator.translate(text, src='en', dest='hi')\n",
        "    translated_text = translation.text\n",
        "    return translated_text"
      ],
      "metadata": {
        "id": "huKZFNcwQ1sw"
      },
      "execution_count": 3,
      "outputs": []
    },
    {
      "cell_type": "code",
      "source": [
        "# Take input from the user\n",
        "english_text = input(\"Enter the English text: \")"
      ],
      "metadata": {
        "colab": {
          "base_uri": "https://localhost:8080/"
        },
        "id": "CIIIzfiiRMrQ",
        "outputId": "dc300bb2-ba52-4cab-e63a-db2e55916b4c"
      },
      "execution_count": 4,
      "outputs": [
        {
          "name": "stdout",
          "output_type": "stream",
          "text": [
            "Enter the English text: hii, How are you\n"
          ]
        }
      ]
    },
    {
      "cell_type": "code",
      "source": [
        "# Translate the input to Hindi\n",
        "translated_text = translate_english_to_hindi(english_text)"
      ],
      "metadata": {
        "id": "YFyPtpPmRTf_"
      },
      "execution_count": 5,
      "outputs": []
    },
    {
      "cell_type": "code",
      "source": [
        "# Print the translated text\n",
        "print(f\"Translated text: {translated_text}\")"
      ],
      "metadata": {
        "colab": {
          "base_uri": "https://localhost:8080/"
        },
        "id": "RqKFF6FlRXvC",
        "outputId": "abf979a1-8e8e-42be-cc90-43ddbcd92a95"
      },
      "execution_count": 6,
      "outputs": [
        {
          "output_type": "stream",
          "name": "stdout",
          "text": [
            "Translated text: हैलो, क्या हाल हैं\n"
          ]
        }
      ]
    }
  ]
}