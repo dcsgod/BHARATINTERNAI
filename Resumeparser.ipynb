{
  "nbformat": 4,
  "nbformat_minor": 0,
  "metadata": {
    "colab": {
      "provenance": [],
      "authorship_tag": "ABX9TyOgk77pwBCCd5z4lu+GboXa",
      "include_colab_link": true
    },
    "kernelspec": {
      "name": "python3",
      "display_name": "Python 3"
    },
    "language_info": {
      "name": "python"
    }
  },
  "cells": [
    {
      "cell_type": "markdown",
      "metadata": {
        "id": "view-in-github",
        "colab_type": "text"
      },
      "source": [
        "<a href=\"https://colab.research.google.com/github/dcsgod/BHARATINTERNAI/blob/main/Resumeparser.ipynb\" target=\"_parent\"><img src=\"https://colab.research.google.com/assets/colab-badge.svg\" alt=\"Open In Colab\"/></a>"
      ]
    },
    {
      "cell_type": "markdown",
      "source": [
        "**RESUME PARSER USING NLTK BHARAT INTERN AI TASK**"
      ],
      "metadata": {
        "id": "RfQvJWXMS9MS"
      }
    },
    {
      "cell_type": "code",
      "execution_count": 22,
      "metadata": {
        "colab": {
          "base_uri": "https://localhost:8080/"
        },
        "id": "6KjUBAI7S7hl",
        "outputId": "5ca2cee3-b16b-416d-aeed-87d4470e5c54"
      },
      "outputs": [
        {
          "output_type": "stream",
          "name": "stdout",
          "text": [
            "Looking in indexes: https://pypi.org/simple, https://us-python.pkg.dev/colab-wheels/public/simple/\n",
            "Requirement already satisfied: nltk in /usr/local/lib/python3.10/dist-packages (3.8.1)\n",
            "Requirement already satisfied: click in /usr/local/lib/python3.10/dist-packages (from nltk) (8.1.3)\n",
            "Requirement already satisfied: joblib in /usr/local/lib/python3.10/dist-packages (from nltk) (1.2.0)\n",
            "Requirement already satisfied: regex>=2021.8.3 in /usr/local/lib/python3.10/dist-packages (from nltk) (2022.10.31)\n",
            "Requirement already satisfied: tqdm in /usr/local/lib/python3.10/dist-packages (from nltk) (4.65.0)\n"
          ]
        }
      ],
      "source": [
        "# installing NLTK in Collab\n",
        "!pip install nltk"
      ]
    },
    {
      "cell_type": "code",
      "source": [
        "#importing the Requirements\n",
        "import nltk\n",
        "from nltk.corpus import wordnet\n",
        "\n",
        "nltk.download('punkt')\n",
        "nltk.download('wordnet')"
      ],
      "metadata": {
        "colab": {
          "base_uri": "https://localhost:8080/"
        },
        "id": "N4x1V1gpTV5N",
        "outputId": "a6aa020c-e915-4a66-e2cd-5f1bd93a242d"
      },
      "execution_count": 23,
      "outputs": [
        {
          "output_type": "stream",
          "name": "stderr",
          "text": [
            "[nltk_data] Downloading package punkt to /root/nltk_data...\n",
            "[nltk_data]   Package punkt is already up-to-date!\n",
            "[nltk_data] Downloading package wordnet to /root/nltk_data...\n",
            "[nltk_data]   Package wordnet is already up-to-date!\n"
          ]
        },
        {
          "output_type": "execute_result",
          "data": {
            "text/plain": [
              "True"
            ]
          },
          "metadata": {},
          "execution_count": 23
        }
      ]
    },
    {
      "cell_type": "code",
      "source": [
        "# Define job requirements and candidate profiles\n",
        "job_requirements = \"We are looking for a candidate with strong programming skills in Python, experience with machine learning, and excellent communication skills.\"\n",
        "candidate_profiles = [\n",
        "    {\n",
        "        \"name\": \"Ravi\",\n",
        "        \"skills\": [\"Python\", \"Java\", \"C++\"],\n",
        "        \"experience\": [\"Machine learning\", \"Data analysis\"],\n",
        "        \"communication\": \"Good\"\n",
        "    },\n",
        "    {\n",
        "        \"name\": \"Sarah\",\n",
        "        \"skills\": [\"Python\", \"R\", \"JavaScript\"],\n",
        "        \"experience\": [\"Natural language processing\", \"Data visualization\"],\n",
        "        \"communication\": \"Excellent\"\n",
        "    },\n",
        "    {\n",
        "        \"name\": \"Michael\",\n",
        "        \"skills\": [\"C++\", \"Java\", \"JavaScript\"],\n",
        "        \"experience\": [\"Database management\", \"Web development\"],\n",
        "        \"communication\": \"Average\"\n",
        "    }\n",
        "]"
      ],
      "metadata": {
        "id": "ouEpzTZzThy-"
      },
      "execution_count": 24,
      "outputs": []
    },
    {
      "cell_type": "code",
      "source": [
        "# Funtion to Calculate Similarity Score\n",
        "def calculate_similarity_score(words1, words2):\n",
        "    synsets1 = set([synset for word in words1 for synset in wordnet.synsets(word)])\n",
        "    synsets2 = set([synset for word in words2 for synset in wordnet.synsets(word)])\n",
        "    similarity_score = len(synsets1.intersection(synsets2)) / (len(synsets1) + len(synsets2))\n",
        "    return similarity_score"
      ],
      "metadata": {
        "id": "NiPWsArFT1Sr"
      },
      "execution_count": 25,
      "outputs": []
    },
    {
      "cell_type": "code",
      "source": [
        "# Function to find the best candidate based on job requirements\n",
        "def find_best_candidate(job_requirements, candidate_profiles):\n",
        "    best_candidate = None\n",
        "    best_score = 0\n",
        "\n",
        "    # Tokenize job requirements\n",
        "    job_tokens = nltk.word_tokenize(job_requirements)\n",
        "\n",
        "    for candidate in candidate_profiles:\n",
        "        # Combine candidate's skills and experience\n",
        "        candidate_words = candidate[\"skills\"] + candidate[\"experience\"]\n",
        "\n",
        "        # Calculate similarity score\n",
        "        score = calculate_similarity_score(job_tokens, candidate_words)\n",
        "\n",
        "        # Update best candidate if the current score is higher\n",
        "        if score > best_score:\n",
        "            best_candidate = candidate[\"name\"]\n",
        "            best_score = score\n",
        "\n",
        "    return best_candidate\n"
      ],
      "metadata": {
        "id": "ihnpzX-CT7DL"
      },
      "execution_count": 26,
      "outputs": []
    },
    {
      "cell_type": "code",
      "source": [
        "# Find the best candidate\n",
        "best_candidate = find_best_candidate(job_requirements, candidate_profiles)\n",
        "print(\"The best candidate for the job is:\", best_candidate)"
      ],
      "metadata": {
        "colab": {
          "base_uri": "https://localhost:8080/"
        },
        "id": "eotfpyEqUEXv",
        "outputId": "5cbfd24c-8af1-4c42-8e98-fe9bfe322f2e"
      },
      "execution_count": 27,
      "outputs": [
        {
          "output_type": "stream",
          "name": "stdout",
          "text": [
            "The best candidate for the job is: Ravi\n"
          ]
        }
      ]
    }
  ]
}