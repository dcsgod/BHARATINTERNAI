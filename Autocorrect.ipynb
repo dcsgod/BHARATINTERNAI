{
  "nbformat": 4,
  "nbformat_minor": 0,
  "metadata": {
    "colab": {
      "provenance": [],
      "authorship_tag": "ABX9TyPVBKEuOe3aLGxrQfuUy6ue",
      "include_colab_link": true
    },
    "kernelspec": {
      "name": "python3",
      "display_name": "Python 3"
    },
    "language_info": {
      "name": "python"
    }
  },
  "cells": [
    {
      "cell_type": "markdown",
      "metadata": {
        "id": "view-in-github",
        "colab_type": "text"
      },
      "source": [
        "<a href=\"https://colab.research.google.com/github/dcsgod/BHARATINTERNAI/blob/main/Autocorrect.ipynb\" target=\"_parent\"><img src=\"https://colab.research.google.com/assets/colab-badge.svg\" alt=\"Open In Colab\"/></a>"
      ]
    },
    {
      "cell_type": "markdown",
      "source": [
        "**AUTO CORRECTION TOOL BHARAT INTERN AI TASK**"
      ],
      "metadata": {
        "id": "T5iNCKq2Xay-"
      }
    },
    {
      "cell_type": "code",
      "execution_count": null,
      "metadata": {
        "id": "uK5tXNcvXZKw"
      },
      "outputs": [],
      "source": [
        "#installing Auto correct to collab\n",
        "!pip install autocorrect\n"
      ]
    },
    {
      "cell_type": "code",
      "source": [
        "#importing The Libraries\n",
        "from autocorrect import Speller"
      ],
      "metadata": {
        "id": "S75ZnRyoXZ2x"
      },
      "execution_count": 2,
      "outputs": []
    },
    {
      "cell_type": "code",
      "source": [
        "# Create an instance/object of the Speller class\n",
        "spell = Speller(lang='en')"
      ],
      "metadata": {
        "id": "jc3TIbNYX50I"
      },
      "execution_count": 4,
      "outputs": []
    },
    {
      "cell_type": "code",
      "source": [
        "# Take input from the user\n",
        "input_word = input(\"Enter a word: \")"
      ],
      "metadata": {
        "colab": {
          "base_uri": "https://localhost:8080/"
        },
        "id": "WJmOzsJsYAt1",
        "outputId": "21956e40-4d1e-4c06-ca54-dfb5cb3ced35"
      },
      "execution_count": 5,
      "outputs": [
        {
          "name": "stdout",
          "output_type": "stream",
          "text": [
            "Enter a word: inklude\n"
          ]
        }
      ]
    },
    {
      "cell_type": "code",
      "source": [
        "# Perform auto-correction\n",
        "corrected_word = spell(input_word)"
      ],
      "metadata": {
        "id": "MwR3jrg3YIu1"
      },
      "execution_count": 6,
      "outputs": []
    },
    {
      "cell_type": "code",
      "source": [
        "# Check if the input word is already correct\n",
        "if corrected_word == input_word:\n",
        "    print(f\"The word '{input_word}' is spelled correctly.\")\n",
        "else:\n",
        "    print(f\"Did you mean '{corrected_word}'?\")"
      ],
      "metadata": {
        "colab": {
          "base_uri": "https://localhost:8080/"
        },
        "id": "37ZEfxWqYN0Q",
        "outputId": "dc9c6daa-d26d-4833-826c-fba427a9424e"
      },
      "execution_count": 7,
      "outputs": [
        {
          "output_type": "stream",
          "name": "stdout",
          "text": [
            "Did you mean 'include'?\n"
          ]
        }
      ]
    }
  ]
}